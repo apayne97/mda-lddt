{
 "cells": [
  {
   "cell_type": "markdown",
   "metadata": {
    "jupyter": {
     "outputs_hidden": true
    }
   },
   "source": [
    "# Imports"
   ]
  },
  {
   "cell_type": "code",
   "execution_count": 1,
   "metadata": {},
   "outputs": [
    {
     "name": "stderr",
     "output_type": "stream",
     "text": [
      "/Users/alexpayne/opt/anaconda3/envs/mda-lddt/lib/python3.9/site-packages/tqdm/auto.py:21: TqdmWarning: IProgress not found. Please update jupyter and ipywidgets. See https://ipywidgets.readthedocs.io/en/stable/user_install.html\n",
      "  from .autonotebook import tqdm as notebook_tqdm\n"
     ]
    }
   ],
   "source": [
    "from MDAnalysis import Universe\n",
    "from MDAnalysis.analysis import rms"
   ]
  },
  {
   "cell_type": "markdown",
   "metadata": {},
   "source": [
    "# Load molecules"
   ]
  },
  {
   "cell_type": "code",
   "execution_count": 2,
   "metadata": {},
   "outputs": [],
   "source": [
    "pdb1 = Universe(\"./Mpro-P0008_0A_bound.pdb\")"
   ]
  },
  {
   "cell_type": "code",
   "execution_count": 3,
   "metadata": {},
   "outputs": [],
   "source": [
    "pdb2 = Universe(\"./Mpro-P0009_0A_bound.pdb\")"
   ]
  },
  {
   "cell_type": "code",
   "execution_count": 4,
   "metadata": {},
   "outputs": [
    {
     "name": "stderr",
     "output_type": "stream",
     "text": [
      "/Users/alexpayne/opt/anaconda3/envs/mda-lddt/lib/python3.9/site-packages/MDAnalysis/analysis/base.py:438: UserWarning: Reader has no dt information, set to 1.0 ps\n",
      "  self.times[i] = ts.time\n",
      "/Users/alexpayne/opt/anaconda3/envs/mda-lddt/lib/python3.9/site-packages/MDAnalysis/coordinates/base.py:750: UserWarning: Reader has no dt information, set to 1.0 ps\n",
      "  return self.ts.time\n"
     ]
    },
    {
     "data": {
      "text/plain": [
       "<MDAnalysis.analysis.rms.RMSD at 0x112b2e5e0>"
      ]
     },
     "execution_count": 4,
     "metadata": {},
     "output_type": "execute_result"
    }
   ],
   "source": [
    "# Select the atoms to be used for RMSD calculation (e.g. backbone atoms)\n",
    "selection = \"backbone and resid 145-215\"\n",
    "\n",
    "# Create the RMSD calculator object\n",
    "rmsd_calc = rms.RMSD(pdb1, pdb2, select=selection)\n",
    "\n",
    "# Superimpose the two structures\n",
    "rmsd_calc.run()"
   ]
  },
  {
   "cell_type": "code",
   "execution_count": 5,
   "metadata": {},
   "outputs": [
    {
     "name": "stderr",
     "output_type": "stream",
     "text": [
      "/Users/alexpayne/opt/anaconda3/envs/mda-lddt/lib/python3.9/site-packages/MDAnalysis/analysis/rms.py:718: DeprecationWarning: The `rmsd` attribute was deprecated in MDAnalysis 2.0.0 and will be removed in MDAnalysis 3.0.0. Please use `results.rmsd` instead.\n",
      "  warnings.warn(wmsg, DeprecationWarning)\n"
     ]
    },
    {
     "data": {
      "text/plain": [
       "array([[0.        , 0.        , 0.23993875]])"
      ]
     },
     "execution_count": 5,
     "metadata": {},
     "output_type": "execute_result"
    }
   ],
   "source": [
    "rmsd_calc.rmsd"
   ]
  },
  {
   "cell_type": "markdown",
   "metadata": {},
   "source": [
    "# Run basic calculation"
   ]
  },
  {
   "cell_type": "code",
   "execution_count": 6,
   "metadata": {},
   "outputs": [],
   "source": [
    "from MDAnalysis.lib.distances import capped_distance"
   ]
  },
  {
   "cell_type": "code",
   "execution_count": 7,
   "metadata": {
    "collapsed": true,
    "jupyter": {
     "outputs_hidden": true
    },
    "tags": []
   },
   "outputs": [
    {
     "name": "stdout",
     "output_type": "stream",
     "text": [
      "Help on function capped_distance in module MDAnalysis.lib.distances:\n",
      "\n",
      "capped_distance(reference: Union[numpy.ndarray, ForwardRef('AtomGroup')], configuration: Union[numpy.ndarray, ForwardRef('AtomGroup')], max_cutoff: float, min_cutoff: Optional[float] = None, box: Optional[numpy.ndarray] = None, method: Optional[str] = None, return_distances: Optional[bool] = True)\n",
      "    Calculates pairs of indices corresponding to entries in the `reference`\n",
      "    and `configuration` arrays which are separated by a distance lying within\n",
      "    the specified cutoff(s). Optionally, these distances can be returned as\n",
      "    well.\n",
      "    \n",
      "    If the optional argument `box` is supplied, the minimum image convention is\n",
      "    applied when calculating distances. Either orthogonal or triclinic boxes are\n",
      "    supported.\n",
      "    \n",
      "    An automatic guessing of the optimal method to calculate the distances is\n",
      "    included in the function. An optional keyword for the method is also\n",
      "    provided. Users can enforce a particular method with this functionality.\n",
      "    Currently brute force, grid search, and periodic KDtree methods are\n",
      "    implemented.\n",
      "    \n",
      "    Parameters\n",
      "    -----------\n",
      "    reference : numpy.ndarray or :class:`~MDAnalysis.core.groups.AtomGroup`\n",
      "        Reference coordinate array with shape ``(3,)`` or ``(n, 3)``. Also\n",
      "        accepts an :class:`~MDAnalysis.core.groups.AtomGroup`.\n",
      "    configuration : numpy.ndarray or :class:`~MDAnalysis.core.groups.AtomGroup`\n",
      "        Configuration coordinate array with shape ``(3,)`` or ``(m, 3)``. Also\n",
      "        accepts an :class:`~MDAnalysis.core.groups.AtomGroup`.\n",
      "    max_cutoff : float\n",
      "        Maximum cutoff distance between the reference and configuration.\n",
      "    min_cutoff : float, optional\n",
      "        Minimum cutoff distance between reference and configuration.\n",
      "    box : array_like, optional\n",
      "        The unitcell dimensions of the system, which can be orthogonal or\n",
      "        triclinic and must be provided in the same format as returned by\n",
      "        :attr:`MDAnalysis.coordinates.timestep.Timestep.dimensions`:\n",
      "        ``[lx, ly, lz, alpha, beta, gamma]``.\n",
      "    method : {'bruteforce', 'nsgrid', 'pkdtree'}, optional\n",
      "        Keyword to override the automatic guessing of the employed search\n",
      "        method.\n",
      "    return_distances : bool, optional\n",
      "        If set to ``True``, distances will also be returned.\n",
      "    \n",
      "    Returns\n",
      "    -------\n",
      "    pairs : numpy.ndarray (``dtype=numpy.int64``, ``shape=(n_pairs, 2)``)\n",
      "        Pairs of indices, corresponding to coordinates in the `reference` and\n",
      "        `configuration` arrays such that the distance between them lies within\n",
      "        the interval (`min_cutoff`, `max_cutoff`].\n",
      "        Each row in `pairs` is an index pair ``[i, j]`` corresponding to the\n",
      "        ``i``-th coordinate in `reference` and the ``j``-th coordinate in\n",
      "        `configuration`.\n",
      "    distances : numpy.ndarray (``dtype=numpy.float64``, ``shape=(n_pairs,)``), optional\n",
      "        Distances corresponding to each pair of indices. Only returned if\n",
      "        `return_distances` is ``True``. ``distances[k]`` corresponds to the\n",
      "        ``k``-th pair returned in `pairs` and gives the distance between the\n",
      "        coordinates ``reference[pairs[k, 0]]`` and\n",
      "        ``configuration[pairs[k, 1]]``.\n",
      "    \n",
      "        .. code-block:: python\n",
      "    \n",
      "            pairs, distances = capped_distances(reference, configuration,\n",
      "                                                max_cutoff, return_distances=True)\n",
      "            for k, [i, j] in enumerate(pairs):\n",
      "                coord1 = reference[i]\n",
      "                coord2 = configuration[j]\n",
      "                distance = distances[k]\n",
      "    \n",
      "    See Also\n",
      "    --------\n",
      "    distance_array\n",
      "    MDAnalysis.lib.pkdtree.PeriodicKDTree.search\n",
      "    MDAnalysis.lib.nsgrid.FastNS.search\n",
      "    \n",
      "    \n",
      "    .. versionchanged:: 1.0.1\n",
      "       nsgrid was temporarily removed and replaced with pkdtree due to issues\n",
      "       relating to its reliability and accuracy (Issues #2919, #2229, #2345,\n",
      "       #2670, #2930)\n",
      "    .. versionchanged:: 1.0.2\n",
      "       nsgrid enabled again\n",
      "    .. versionchanged:: 2.3.0\n",
      "       Can now accept an :class:`~MDAnalysis.core.groups.AtomGroup` as an\n",
      "       argument in any position and checks inputs using type hinting.\n",
      "\n"
     ]
    }
   ],
   "source": [
    "help(capped_distance)"
   ]
  },
  {
   "cell_type": "code",
   "execution_count": 8,
   "metadata": {},
   "outputs": [],
   "source": [
    "pairs, distances = capped_distance(pdb1.coord, pdb1.coord, max_cutoff=15, min_cutoff=1.5)"
   ]
  },
  {
   "cell_type": "code",
   "execution_count": 9,
   "metadata": {},
   "outputs": [
    {
     "data": {
      "text/plain": [
       "14.999997419529024"
      ]
     },
     "execution_count": 9,
     "metadata": {},
     "output_type": "execute_result"
    }
   ],
   "source": [
    "distances.max()"
   ]
  },
  {
   "cell_type": "code",
   "execution_count": 10,
   "metadata": {},
   "outputs": [
    {
     "data": {
      "text/plain": [
       "10.879926077929232"
      ]
     },
     "execution_count": 10,
     "metadata": {},
     "output_type": "execute_result"
    }
   ],
   "source": [
    "distances.mean()"
   ]
  },
  {
   "cell_type": "code",
   "execution_count": 11,
   "metadata": {},
   "outputs": [
    {
     "data": {
      "text/plain": [
       "2503384"
      ]
     },
     "execution_count": 11,
     "metadata": {},
     "output_type": "execute_result"
    }
   ],
   "source": [
    "len(distances)"
   ]
  },
  {
   "cell_type": "code",
   "execution_count": 12,
   "metadata": {},
   "outputs": [],
   "source": [
    "pairs2, distances2 = capped_distance(pdb2.coord, pdb2.coord, max_cutoff=15, min_cutoff=1.5)"
   ]
  },
  {
   "cell_type": "code",
   "execution_count": 13,
   "metadata": {},
   "outputs": [
    {
     "data": {
      "text/plain": [
       "2459412"
      ]
     },
     "execution_count": 13,
     "metadata": {},
     "output_type": "execute_result"
    }
   ],
   "source": [
    "len(distances2)"
   ]
  },
  {
   "cell_type": "code",
   "execution_count": 14,
   "metadata": {},
   "outputs": [
    {
     "data": {
      "text/plain": [
       "array([[   0, 4835],\n",
       "       [   0, 5120],\n",
       "       [   0, 4786],\n",
       "       ...,\n",
       "       [5213,  373],\n",
       "       [5213,  372],\n",
       "       [5213,  371]])"
      ]
     },
     "execution_count": 14,
     "metadata": {},
     "output_type": "execute_result"
    }
   ],
   "source": [
    "pairs2"
   ]
  },
  {
   "cell_type": "code",
   "execution_count": 15,
   "metadata": {},
   "outputs": [
    {
     "data": {
      "text/plain": [
       "array([   0, 5250])"
      ]
     },
     "execution_count": 15,
     "metadata": {},
     "output_type": "execute_result"
    }
   ],
   "source": [
    "pairs[0]"
   ]
  },
  {
   "cell_type": "code",
   "execution_count": 16,
   "metadata": {},
   "outputs": [
    {
     "data": {
      "text/plain": [
       "array([   0, 4835])"
      ]
     },
     "execution_count": 16,
     "metadata": {},
     "output_type": "execute_result"
    }
   ],
   "source": [
    "pairs2[0]"
   ]
  },
  {
   "cell_type": "code",
   "execution_count": 17,
   "metadata": {},
   "outputs": [],
   "source": [
    "import numpy as np"
   ]
  },
  {
   "cell_type": "code",
   "execution_count": 18,
   "metadata": {},
   "outputs": [
    {
     "data": {
      "text/plain": [
       "array([   0,    1,    2, ..., 5211, 5212, 5213])"
      ]
     },
     "execution_count": 18,
     "metadata": {},
     "output_type": "execute_result"
    }
   ],
   "source": [
    "np.intersect1d(pairs, pairs2)"
   ]
  },
  {
   "cell_type": "code",
   "execution_count": 20,
   "metadata": {},
   "outputs": [
    {
     "data": {
      "text/plain": [
       "array([   0,    1,    2, ..., 5283, 5284, 5285])"
      ]
     },
     "execution_count": 20,
     "metadata": {},
     "output_type": "execute_result"
    }
   ],
   "source": [
    "np.union1d(pairs, pairs2)"
   ]
  },
  {
   "cell_type": "code",
   "execution_count": 64,
   "metadata": {},
   "outputs": [],
   "source": [
    "pairs_tuples = {tuple(sorted([i,j])) for i,j in pairs}\n",
    "pairs2_tuples = {tuple(sorted([i,j])) for i,j in pairs2}"
   ]
  },
  {
   "cell_type": "code",
   "execution_count": 65,
   "metadata": {},
   "outputs": [
    {
     "data": {
      "text/plain": [
       "1251692"
      ]
     },
     "execution_count": 65,
     "metadata": {},
     "output_type": "execute_result"
    }
   ],
   "source": [
    "len(pairs_tuples)"
   ]
  },
  {
   "cell_type": "code",
   "execution_count": null,
   "metadata": {},
   "outputs": [],
   "source": []
  },
  {
   "cell_type": "code",
   "execution_count": 66,
   "metadata": {},
   "outputs": [],
   "source": [
    "union = pairs_tuples.union(pairs2_tuples)"
   ]
  },
  {
   "cell_type": "code",
   "execution_count": 67,
   "metadata": {},
   "outputs": [],
   "source": [
    "n_union = len(union)"
   ]
  },
  {
   "cell_type": "code",
   "execution_count": 68,
   "metadata": {},
   "outputs": [],
   "source": [
    "intersect = pairs_tuples.intersection(pairs2_tuples)"
   ]
  },
  {
   "cell_type": "code",
   "execution_count": 69,
   "metadata": {},
   "outputs": [],
   "source": [
    "intersect2 = pairs2_tuples.intersection(pairs_tuples)"
   ]
  },
  {
   "cell_type": "code",
   "execution_count": 70,
   "metadata": {},
   "outputs": [
    {
     "data": {
      "text/plain": [
       "True"
      ]
     },
     "execution_count": 70,
     "metadata": {},
     "output_type": "execute_result"
    }
   ],
   "source": [
    "intersect == intersect2"
   ]
  },
  {
   "cell_type": "code",
   "execution_count": 71,
   "metadata": {},
   "outputs": [],
   "source": [
    "n_intersect = len(intersect)"
   ]
  },
  {
   "cell_type": "code",
   "execution_count": 72,
   "metadata": {},
   "outputs": [
    {
     "data": {
      "text/plain": [
       "905601"
      ]
     },
     "execution_count": 72,
     "metadata": {},
     "output_type": "execute_result"
    }
   ],
   "source": [
    "n_intersect"
   ]
  },
  {
   "cell_type": "code",
   "execution_count": 54,
   "metadata": {},
   "outputs": [],
   "source": [
    "def compare_distances(intersect, \n",
    "                      idx1_list, \n",
    "                      idx2_list, \n",
    "                      d1_list, \n",
    "                      d2_list, \n",
    "                      threshold):\n",
    "    \n",
    "    conserved_pairs = 0\n",
    "    for pair in intersect:\n",
    "        idx1 = idx1_list.index(pair)\n",
    "        d1 = d1_list[idx1]\n",
    "        idx2 = idx2_list.index(pair)\n",
    "        d2 = d2_list[idx2]\n",
    "        \n",
    "        if abs(d1-d2) < threshold:\n",
    "            conserved_pairs += 1\n",
    "    return conserved_pairs"
   ]
  },
  {
   "cell_type": "code",
   "execution_count": null,
   "metadata": {},
   "outputs": [],
   "source": []
  },
  {
   "cell_type": "code",
   "execution_count": null,
   "metadata": {},
   "outputs": [],
   "source": []
  },
  {
   "cell_type": "code",
   "execution_count": null,
   "metadata": {},
   "outputs": [],
   "source": []
  },
  {
   "cell_type": "code",
   "execution_count": 53,
   "metadata": {},
   "outputs": [
    {
     "ename": "KeyboardInterrupt",
     "evalue": "",
     "output_type": "error",
     "traceback": [
      "\u001b[0;31m---------------------------------------------------------------------------\u001b[0m",
      "\u001b[0;31mKeyboardInterrupt\u001b[0m                         Traceback (most recent call last)",
      "Cell \u001b[0;32mIn[53], line 1\u001b[0m\n\u001b[0;32m----> 1\u001b[0m \u001b[43mcompare_distances\u001b[49m\u001b[43m(\u001b[49m\u001b[38;5;28;43mlist\u001b[39;49m\u001b[43m(\u001b[49m\u001b[43mintersect\u001b[49m\u001b[43m)\u001b[49m\u001b[43m,\u001b[49m\n\u001b[1;32m      2\u001b[0m \u001b[43m                  \u001b[49m\u001b[38;5;28;43mlist\u001b[39;49m\u001b[43m(\u001b[49m\u001b[43mpairs_tuples\u001b[49m\u001b[43m)\u001b[49m\u001b[43m,\u001b[49m\n\u001b[1;32m      3\u001b[0m \u001b[43m                  \u001b[49m\u001b[38;5;28;43mlist\u001b[39;49m\u001b[43m(\u001b[49m\u001b[43mpairs2_tuples\u001b[49m\u001b[43m)\u001b[49m\u001b[43m,\u001b[49m\n\u001b[1;32m      4\u001b[0m \u001b[43m                  \u001b[49m\u001b[43mdistances\u001b[49m\u001b[43m,\u001b[49m\n\u001b[1;32m      5\u001b[0m \u001b[43m                  \u001b[49m\u001b[43mdistances2\u001b[49m\u001b[43m,\u001b[49m\n\u001b[1;32m      6\u001b[0m \u001b[43m                 \u001b[49m\u001b[38;5;241;43m0.5\u001b[39;49m\u001b[43m)\u001b[49m\n",
      "Cell \u001b[0;32mIn[51], line 10\u001b[0m, in \u001b[0;36mcompare_distances\u001b[0;34m(intersect, idx1_list, idx2_list, d1_list, d2_list, threshold)\u001b[0m\n\u001b[1;32m      8\u001b[0m conserved_pairs \u001b[38;5;241m=\u001b[39m \u001b[38;5;241m0\u001b[39m\n\u001b[1;32m      9\u001b[0m \u001b[38;5;28;01mfor\u001b[39;00m pair \u001b[38;5;129;01min\u001b[39;00m intersect:\n\u001b[0;32m---> 10\u001b[0m     idx1 \u001b[38;5;241m=\u001b[39m \u001b[43midx1_list\u001b[49m\u001b[38;5;241;43m.\u001b[39;49m\u001b[43mindex\u001b[49m\u001b[43m(\u001b[49m\u001b[43mpair\u001b[49m\u001b[43m)\u001b[49m\n\u001b[1;32m     11\u001b[0m     d1 \u001b[38;5;241m=\u001b[39m d1_list[idx1]\n\u001b[1;32m     12\u001b[0m     idx2 \u001b[38;5;241m=\u001b[39m idx2_list\u001b[38;5;241m.\u001b[39mindex(pair)\n",
      "\u001b[0;31mKeyboardInterrupt\u001b[0m: "
     ]
    }
   ],
   "source": [
    "compare_distances(list(intersect),\n",
    "                  list(pairs_tuples),\n",
    "                  list(pairs2_tuples),\n",
    "                  distances,\n",
    "                  distances2,\n",
    "                 0.5)\n",
    "                  "
   ]
  },
  {
   "cell_type": "code",
   "execution_count": null,
   "metadata": {},
   "outputs": [],
   "source": []
  }
 ],
 "metadata": {
  "kernelspec": {
   "display_name": "Python 3 (ipykernel)",
   "language": "python",
   "name": "python3"
  },
  "language_info": {
   "codemirror_mode": {
    "name": "ipython",
    "version": 3
   },
   "file_extension": ".py",
   "mimetype": "text/x-python",
   "name": "python",
   "nbconvert_exporter": "python",
   "pygments_lexer": "ipython3",
   "version": "3.9.16"
  }
 },
 "nbformat": 4,
 "nbformat_minor": 4
}
